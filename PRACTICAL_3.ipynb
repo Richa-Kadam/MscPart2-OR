{
  "nbformat": 4,
  "nbformat_minor": 0,
  "metadata": {
    "colab": {
      "name": "PRACTICAL 3.ipynb",
      "provenance": [],
      "collapsed_sections": []
    },
    "kernelspec": {
      "name": "python3",
      "display_name": "Python 3"
    },
    "language_info": {
      "name": "python"
    }
  },
  "cells": [
    {
      "cell_type": "code",
      "metadata": {
        "id": "0WMlYJ-3Cl09"
      },
      "source": [
        "from scipy.optimize import linprog"
      ],
      "execution_count": 3,
      "outputs": []
    },
    {
      "cell_type": "code",
      "metadata": {
        "id": "-PQ3n58PC_ah"
      },
      "source": [
        "#min z = x1-3x2+2x3\n",
        "#subject to\n",
        "#3x1-x2+3x3<=7\n",
        "#2x1+4x2<=12\n",
        "#4x1+3x2+8x3<=10\n",
        "#x1,x2,x3>=0\n",
        "\n",
        "\n",
        "obj=[1,-3,2]\n",
        "lhs_ineq=[[3,-1,3],\n",
        "          [2,4,0],\n",
        "          [-4,3,8]]\n",
        "\n",
        "rhs_ineq=[7,12,10] \n",
        "\n",
        "bnd=[(0,float(\"inf\")),\n",
        "     (0,float(\"inf\")),\n",
        "     (0,float(\"inf\"))]         \n",
        "\n",
        "\n",
        "opt=linprog(c=obj,A_ub=lhs_ineq,\n",
        "            b_ub=rhs_ineq,\n",
        "            bounds=bnd,\n",
        "            method=\"revised simplex\")\n",
        "\n"
      ],
      "execution_count": 7,
      "outputs": []
    },
    {
      "cell_type": "code",
      "metadata": {
        "colab": {
          "base_uri": "https://localhost:8080/"
        },
        "id": "6i4jJhJREt3v",
        "outputId": "f7ed9742-e319-4156-8e7a-0ef2b449238b"
      },
      "source": [
        "opt"
      ],
      "execution_count": 8,
      "outputs": [
        {
          "output_type": "execute_result",
          "data": {
            "text/plain": [
              "     con: array([], dtype=float64)\n",
              "     fun: -9.0\n",
              " message: 'Optimization terminated successfully.'\n",
              "     nit: 1\n",
              "   slack: array([10.,  0.,  1.])\n",
              "  status: 0\n",
              " success: True\n",
              "       x: array([0., 3., 0.])"
            ]
          },
          "metadata": {},
          "execution_count": 8
        }
      ]
    },
    {
      "cell_type": "code",
      "metadata": {
        "id": "UKkTQ9J7Gqkd"
      },
      "source": [
        ""
      ],
      "execution_count": null,
      "outputs": []
    }
  ]
}