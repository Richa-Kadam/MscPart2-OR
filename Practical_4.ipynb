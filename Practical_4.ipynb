{
  "nbformat": 4,
  "nbformat_minor": 0,
  "metadata": {
    "colab": {
      "name": "Practical 4.ipynb",
      "provenance": []
    },
    "kernelspec": {
      "name": "python3",
      "display_name": "Python 3"
    },
    "language_info": {
      "name": "python"
    }
  },
  "cells": [
    {
      "cell_type": "code",
      "metadata": {
        "id": "r3uGE6-kH_Kh"
      },
      "source": [
        "from scipy.optimize import linprog\n",
        "\n",
        "#Max z=x+2y\n",
        "#subject to\n",
        "#2x+y<=20\n",
        "#-4x+5y<=10\n",
        "#-x+2y>=-2\n",
        "#-x+5y=15\n",
        "#x,y>=0\n",
        "\n",
        "\n",
        "obj=[-1,-2]\n",
        "\n",
        "lhs_ineq=[[2,1],\n",
        "          [-4,5],\n",
        "          [1,2]]\n",
        "\n",
        "rhs_ineq=[20,10,2] \n",
        "\n",
        "lhs_eq=[[-1,5]]\n",
        "rhs_eq=[15]\n",
        "\n",
        "bnd=[(0,float(\"inf\")),\n",
        "     (0,float(\"inf\")),]         \n",
        "\n",
        "\n",
        "opt=linprog(c=obj,A_ub=lhs_ineq,\n",
        "            b_ub=rhs_ineq,\n",
        "            A_eq=lhs_eq,\n",
        "            b_eq=rhs_eq,\n",
        "            bounds=bnd,\n",
        "            method=\"revised simplex\")"
      ],
      "execution_count": 5,
      "outputs": []
    },
    {
      "cell_type": "code",
      "metadata": {
        "colab": {
          "base_uri": "https://localhost:8080/"
        },
        "id": "1UjotiSCIq2Z",
        "outputId": "72f41a06-f26c-483e-a3cc-a126d6ec5522"
      },
      "source": [
        "opt"
      ],
      "execution_count": 6,
      "outputs": [
        {
          "output_type": "execute_result",
          "data": {
            "text/plain": [
              "     con: array([10.])\n",
              "     fun: -2.0\n",
              " message: 'The problem appears infeasible, as the phase one auxiliary problem terminated successfully with a residual of 1.0e+01, greater than the tolerance 1e-12 required for the solution to be considered feasible. Consider increasing the tolerance to be greater than 1.0e+01. If this tolerance is unnaceptably large, the problem is likely infeasible.'\n",
              "     nit: 1\n",
              "   slack: array([19.,  5.,  0.])\n",
              "  status: 2\n",
              " success: False\n",
              "       x: array([0., 1.])"
            ]
          },
          "metadata": {},
          "execution_count": 6
        }
      ]
    },
    {
      "cell_type": "code",
      "metadata": {
        "id": "uQxIdcEaOTj_"
      },
      "source": [
        ""
      ],
      "execution_count": null,
      "outputs": []
    }
  ]
}